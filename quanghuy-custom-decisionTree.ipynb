{
 "cells": [
  {
   "cell_type": "markdown",
   "id": "ea0bdf69",
   "metadata": {},
   "source": [
    "### Customized Decision Tree"
   ]
  },
  {
   "cell_type": "code",
   "execution_count": 6,
   "id": "022dd079",
   "metadata": {},
   "outputs": [
    {
     "name": "stdout",
     "output_type": "stream",
     "text": [
      "(14, 3) (14,)\n"
     ]
    }
   ],
   "source": [
    "import pandas as pd\n",
    "import numpy as np\n",
    "\n",
    "df = pd.read_csv('love_example.csv', delimiter=',')\n",
    "df = df.iloc[:, 1:]\n",
    "X = df.iloc[:, :-1]\n",
    "y = df.iloc[:, -1]\n",
    "print(X.shape, y.shape)"
   ]
  },
  {
   "cell_type": "code",
   "execution_count": 7,
   "id": "b78641b3",
   "metadata": {},
   "outputs": [
    {
     "name": "stdout",
     "output_type": "stream",
     "text": [
      "train_set: (13, 3) (13,)\n",
      "test_set: (5, 3) 0     No\n",
      "1     No\n",
      "2    Yes\n",
      "3    Yes\n",
      "4    Yes\n",
      "Name: LoveAI, dtype: object\n"
     ]
    }
   ],
   "source": [
    "X_train = X.iloc[:-1, :]\n",
    "X_test = X.iloc[:5, :]\n",
    "y_train = y.iloc[:-1]\n",
    "y_test = y.iloc[:5]\n",
    "\n",
    "print('train_set:', X_train.shape, y_train.shape)\n",
    "print('test_set:', X_test.shape,  y_test)"
   ]
  },
  {
   "cell_type": "code",
   "execution_count": 8,
   "id": "8ccbf260",
   "metadata": {},
   "outputs": [],
   "source": [
    "def compute_gini_label(data):\n",
    "    data = np.asarray(data)\n",
    "    # xử lý data rỗng\n",
    "    if len(data) == 0:\n",
    "        return 0.0\n",
    "    # đếm số lần xuất hiện của các phần tử trong 1 dãy\n",
    "    count = np.unique(data, return_counts=True)\n",
    "    prob = count[1]/len(data)\n",
    "    gini = 1 - np.sum(prob**2)\n",
    "    return gini\n",
    "\n",
    "def compute_gini_feature(X_train, y_train):\n",
    "    gini_feature = []\n",
    "    for name in X_train.columns:\n",
    "        total_count = len(X_train[name])\n",
    "        total_gini = 0\n",
    "        count = []\n",
    "        gini = []\n",
    "        # dạng string\n",
    "        if X_train[name].dtype == 'object' or X_train[name].dtype.name == 'category':\n",
    "            label = set(X_train[name])\n",
    "            for element in label:\n",
    "                # Điều kiện lọc\n",
    "                condition = (X_train[name] == element)\n",
    "                # lọc output theo điều kiện của feature\n",
    "                data = y_train.loc[condition]\n",
    "                count.append(len(data))\n",
    "                gini_data = compute_gini_label(data)\n",
    "                gini.append(gini_data)\n",
    "\n",
    "            for i in range(len(count)):\n",
    "                total_gini += (count[i]/total_count)*gini[i]\n",
    "            \n",
    "            gini_feature.append(total_gini)\n",
    "        \n",
    "        else:\n",
    "            gini_history = []\n",
    "            # lấy index history sau khi sort. mục đích để sắp xếp lại các nhãn theo index này \n",
    "            ascending_i_list =  X_train[name].values.argsort()\n",
    "            # tính giá trị chia nếu được chọn làm cha\n",
    "            avg_threshold = []\n",
    "\n",
    "            for threshold in range(1, len(X_train[name])):\n",
    "                count = []\n",
    "                gini = []\n",
    "                total_gini = 0\n",
    "                # sort cột dự đoán theo label (reset lại index)\n",
    "                sorted_label_cols = y_train.loc[ascending_i_list].reset_index(drop=True)\n",
    "\n",
    "                # chia theo ngưỡng thành data1 và data2\n",
    "                data1 = sorted_label_cols[:threshold]\n",
    "                count.append(len(data1))\n",
    "                gini.append(compute_gini_label(data1))\n",
    "                data2 = sorted_label_cols[threshold:]\n",
    "                count.append(len(data2))\n",
    "                gini.append(compute_gini_label(data2))\n",
    "\n",
    "                val1 = X_train[name].iloc[ascending_i_list[threshold - 1]]\n",
    "                val2 = X_train[name].iloc[ascending_i_list[threshold]]\n",
    "                avg_thres = (val1 + val2) / 2\n",
    "                avg_threshold.append(avg_thres)\n",
    "                for i in range(len(count)):\n",
    "                    total_gini += (count[i]/total_count)*gini[i]\n",
    "                gini_history.append(total_gini)\n",
    "\n",
    "            min_gini = min(gini_history)\n",
    "            print(gini_history)\n",
    "            best_threshold = gini_history.index(min_gini)\n",
    "            best_avg_threshold = avg_threshold[best_threshold]\n",
    "            gini_feature.append((min_gini,best_threshold, best_avg_threshold))\n",
    "\n",
    "    return gini_feature\n",
    "\n",
    "\n",
    "class Node:\n",
    "    def __init__(self, is_leaf=False, prediction=None,feature=None, threshold=None, \n",
    "                 children=None, left=None, right=None):\n",
    "        self.is_leaf = is_leaf\n",
    "        self.prediction = prediction\n",
    "        self.feature = feature\n",
    "        self.threshold = threshold\n",
    "        self.children = children  # dict for categorical splits\n",
    "        self.left = left          # TreeNode for <= threshold\n",
    "        self.right = right        # TreeNode for > threshold\n",
    "\n",
    "\n",
    "class HuyIGW04_DecisionTreeClassifier:\n",
    "    def __init__(self):\n",
    "        self.root = None\n",
    "\n",
    "    def fit(self, X_train: pd.DataFrame, y_train: pd.Series):\n",
    "        self.root = self._build_tree(X_train, y_train)\n",
    "        return self\n",
    "\n",
    "    def _build_tree(self, X, y):\n",
    "        X = X.reset_index(drop=True)\n",
    "        y = y.reset_index(drop=True)\n",
    "\n",
    "        if len(y.unique()) == 1 or X.shape[1] == 0:\n",
    "            return Node(is_leaf=True, prediction=y.mode()[0])\n",
    "\n",
    "        gini_list = compute_gini_feature(X, y)\n",
    "\n",
    "        best_idx, best_res = min(\n",
    "            enumerate(gini_list),\n",
    "            key=lambda item: item[1] if not isinstance(item[1], tuple) else item[1][0]\n",
    "        )\n",
    "        feat_name = X.columns[best_idx]\n",
    "        res = best_res\n",
    "        # Phân giải kết quả\n",
    "        if isinstance(res, tuple):\n",
    "            best_gini, thr_idx, best_thr = res\n",
    "        else:\n",
    "            best_gini, thr_idx, best_thr = res, None, None\n",
    "\n",
    "        # Gini hiện tại của node\n",
    "        current_gini = compute_gini_label(y)\n",
    "        if best_gini is None or best_gini >= current_gini:\n",
    "            return Node(is_leaf=True, prediction=y.mode()[0])\n",
    "\n",
    "        node = Node(feature=feat_name, threshold=best_thr)\n",
    "\n",
    "        if best_thr is None:\n",
    "            node.children = {}\n",
    "            for val in X[feat_name].unique():\n",
    "                mask = X[feat_name] == val\n",
    "                X_sub = X[mask].drop(columns=[feat_name]).reset_index(drop=True)\n",
    "                y_sub = y[mask].reset_index(drop=True)\n",
    "                node.children[val] = self._build_tree(X_sub, y_sub)\n",
    "        else:\n",
    "            asc_idx = X[feat_name].values.argsort()\n",
    "            split_pt = thr_idx + 1\n",
    "            left_idx = asc_idx[:split_pt]\n",
    "            right_idx = asc_idx[split_pt:]\n",
    "\n",
    "            X_left = X.iloc[left_idx].reset_index(drop=True)\n",
    "            y_left = y.iloc[left_idx].reset_index(drop=True)\n",
    "            X_right = X.iloc[right_idx].reset_index(drop=True)\n",
    "            y_right = y.iloc[right_idx].reset_index(drop=True)\n",
    "\n",
    "            node.left = self._build_tree(X_left, y_left)\n",
    "            node.right = self._build_tree(X_right, y_right)\n",
    "\n",
    "        return node\n",
    "\n",
    "    def predict(self, X_test):\n",
    "        if isinstance(X_test, pd.Series):\n",
    "            return self._predict_row(self.root, X_test)\n",
    "        preds = []\n",
    "        for _, row in X_test.iterrows():\n",
    "            preds.append(self._predict_row(self.root, row))\n",
    "        return np.array(preds)\n",
    "\n",
    "    def _predict_row(self, node, row):\n",
    "        if node.is_leaf:\n",
    "            return node.prediction\n",
    "        val = row[node.feature]\n",
    "        if node.threshold is None:\n",
    "            child = node.children.get(val)\n",
    "            if child is None:\n",
    "                return max(node.children.values(), key=lambda n: n.prediction).prediction\n",
    "            return self._predict_row(child, row.drop(labels=[node.feature]))\n",
    "        else:\n",
    "            if val <= node.threshold:\n",
    "                return self._predict_row(node.left, row)\n",
    "            else:\n",
    "                return self._predict_row(node.right, row)\n",
    "\n"
   ]
  },
  {
   "cell_type": "code",
   "execution_count": 9,
   "id": "4f79277d",
   "metadata": {},
   "outputs": [],
   "source": [
    "model = HuyIGW04_DecisionTreeClassifier()"
   ]
  },
  {
   "cell_type": "code",
   "execution_count": 10,
   "id": "d98e4bfa",
   "metadata": {},
   "outputs": [
    {
     "name": "stdout",
     "output_type": "stream",
     "text": [
      "[0.46153846153846156, 0.4965034965034966, 0.4871794871794872, 0.4572649572649572, 0.49230769230769234, 0.4688644688644689, 0.4945054945054946, 0.49230769230769234, 0.4957264957264957, 0.4871794871794872, 0.4195804195804197, 0.46153846153846156]\n",
      "[0.38095238095238093, 0.37142857142857133, 0.40476190476190477, 0.40476190476190477, 0.34285714285714286, 0.38095238095238093]\n",
      "[0.3333333333333333, 0.5, 0.3333333333333333]\n",
      "[0.3333333333333333, 0.3333333333333333]\n",
      "[0.0]\n",
      "[0.26666666666666655, 0.25, 0.2222222222222222, 0.25, 0.26666666666666655]\n",
      "[0.0]\n"
     ]
    },
    {
     "data": {
      "text/plain": [
       "<__main__.HuyIGW04_DecisionTreeClassifier at 0x1b03a90f8f0>"
      ]
     },
     "execution_count": 10,
     "metadata": {},
     "output_type": "execute_result"
    }
   ],
   "source": [
    "model.fit(X_train, y_train)"
   ]
  },
  {
   "cell_type": "code",
   "execution_count": 11,
   "id": "672a856d",
   "metadata": {},
   "outputs": [
    {
     "data": {
      "text/plain": [
       "array(['No'], dtype='<U2')"
      ]
     },
     "execution_count": 11,
     "metadata": {},
     "output_type": "execute_result"
    }
   ],
   "source": [
    "model.predict(pd.DataFrame([{'LoveMath': 'Yes', 'LoveArt': 'No', 'Age': 22}]))"
   ]
  },
  {
   "cell_type": "code",
   "execution_count": 12,
   "id": "3927a18f",
   "metadata": {},
   "outputs": [
    {
     "data": {
      "text/plain": [
       "array(['Yes'], dtype='<U3')"
      ]
     },
     "execution_count": 12,
     "metadata": {},
     "output_type": "execute_result"
    }
   ],
   "source": [
    "model.predict(pd.DataFrame([{'LoveMath': 'No', 'LoveArt': 'Yes', 'Age': 22}]))"
   ]
  },
  {
   "cell_type": "code",
   "execution_count": 13,
   "id": "0de16dab",
   "metadata": {},
   "outputs": [
    {
     "data": {
      "text/html": [
       "<div>\n",
       "<style scoped>\n",
       "    .dataframe tbody tr th:only-of-type {\n",
       "        vertical-align: middle;\n",
       "    }\n",
       "\n",
       "    .dataframe tbody tr th {\n",
       "        vertical-align: top;\n",
       "    }\n",
       "\n",
       "    .dataframe thead th {\n",
       "        text-align: right;\n",
       "    }\n",
       "</style>\n",
       "<table border=\"1\" class=\"dataframe\">\n",
       "  <thead>\n",
       "    <tr style=\"text-align: right;\">\n",
       "      <th></th>\n",
       "      <th>LoveMath</th>\n",
       "      <th>LoveArt</th>\n",
       "      <th>Age</th>\n",
       "      <th>LoveAI</th>\n",
       "    </tr>\n",
       "  </thead>\n",
       "  <tbody>\n",
       "    <tr>\n",
       "      <th>0</th>\n",
       "      <td>Yes</td>\n",
       "      <td>Yes</td>\n",
       "      <td>20</td>\n",
       "      <td>No</td>\n",
       "    </tr>\n",
       "    <tr>\n",
       "      <th>1</th>\n",
       "      <td>Yes</td>\n",
       "      <td>No</td>\n",
       "      <td>9</td>\n",
       "      <td>No</td>\n",
       "    </tr>\n",
       "    <tr>\n",
       "      <th>2</th>\n",
       "      <td>No</td>\n",
       "      <td>Yes</td>\n",
       "      <td>18</td>\n",
       "      <td>Yes</td>\n",
       "    </tr>\n",
       "    <tr>\n",
       "      <th>3</th>\n",
       "      <td>No</td>\n",
       "      <td>Yes</td>\n",
       "      <td>35</td>\n",
       "      <td>Yes</td>\n",
       "    </tr>\n",
       "    <tr>\n",
       "      <th>4</th>\n",
       "      <td>Yes</td>\n",
       "      <td>Yes</td>\n",
       "      <td>30</td>\n",
       "      <td>Yes</td>\n",
       "    </tr>\n",
       "    <tr>\n",
       "      <th>5</th>\n",
       "      <td>Yes</td>\n",
       "      <td>No</td>\n",
       "      <td>50</td>\n",
       "      <td>No</td>\n",
       "    </tr>\n",
       "    <tr>\n",
       "      <th>6</th>\n",
       "      <td>No</td>\n",
       "      <td>No</td>\n",
       "      <td>46</td>\n",
       "      <td>No</td>\n",
       "    </tr>\n",
       "    <tr>\n",
       "      <th>7</th>\n",
       "      <td>Yes</td>\n",
       "      <td>Yes</td>\n",
       "      <td>35</td>\n",
       "      <td>No</td>\n",
       "    </tr>\n",
       "    <tr>\n",
       "      <th>8</th>\n",
       "      <td>Yes</td>\n",
       "      <td>No</td>\n",
       "      <td>21</td>\n",
       "      <td>No</td>\n",
       "    </tr>\n",
       "    <tr>\n",
       "      <th>9</th>\n",
       "      <td>No</td>\n",
       "      <td>Yes</td>\n",
       "      <td>45</td>\n",
       "      <td>Yes</td>\n",
       "    </tr>\n",
       "    <tr>\n",
       "      <th>10</th>\n",
       "      <td>No</td>\n",
       "      <td>No</td>\n",
       "      <td>21</td>\n",
       "      <td>Yes</td>\n",
       "    </tr>\n",
       "    <tr>\n",
       "      <th>11</th>\n",
       "      <td>Yes</td>\n",
       "      <td>Yes</td>\n",
       "      <td>38</td>\n",
       "      <td>Yes</td>\n",
       "    </tr>\n",
       "    <tr>\n",
       "      <th>12</th>\n",
       "      <td>Yes</td>\n",
       "      <td>No</td>\n",
       "      <td>25</td>\n",
       "      <td>No</td>\n",
       "    </tr>\n",
       "    <tr>\n",
       "      <th>13</th>\n",
       "      <td>Yes</td>\n",
       "      <td>No</td>\n",
       "      <td>22</td>\n",
       "      <td>No</td>\n",
       "    </tr>\n",
       "  </tbody>\n",
       "</table>\n",
       "</div>"
      ],
      "text/plain": [
       "   LoveMath LoveArt  Age LoveAI\n",
       "0       Yes     Yes   20     No\n",
       "1       Yes      No    9     No\n",
       "2        No     Yes   18    Yes\n",
       "3        No     Yes   35    Yes\n",
       "4       Yes     Yes   30    Yes\n",
       "5       Yes      No   50     No\n",
       "6        No      No   46     No\n",
       "7       Yes     Yes   35     No\n",
       "8       Yes      No   21     No\n",
       "9        No     Yes   45    Yes\n",
       "10       No      No   21    Yes\n",
       "11      Yes     Yes   38    Yes\n",
       "12      Yes      No   25     No\n",
       "13      Yes      No   22     No"
      ]
     },
     "execution_count": 13,
     "metadata": {},
     "output_type": "execute_result"
    }
   ],
   "source": [
    "df"
   ]
  },
  {
   "cell_type": "code",
   "execution_count": 21,
   "id": "3b3af27f",
   "metadata": {},
   "outputs": [
    {
     "data": {
      "text/plain": [
       "LoveMath\n",
       "No     5\n",
       "Yes    9\n",
       "Name: LoveAI, dtype: int64"
      ]
     },
     "execution_count": 21,
     "metadata": {},
     "output_type": "execute_result"
    }
   ],
   "source": [
    "df.groupby('LoveMath')['LoveAI'].count()"
   ]
  },
  {
   "cell_type": "code",
   "execution_count": null,
   "id": "49a1709e",
   "metadata": {},
   "outputs": [
    {
     "data": {
      "text/html": [
       "<div>\n",
       "<style scoped>\n",
       "    .dataframe tbody tr th:only-of-type {\n",
       "        vertical-align: middle;\n",
       "    }\n",
       "\n",
       "    .dataframe tbody tr th {\n",
       "        vertical-align: top;\n",
       "    }\n",
       "\n",
       "    .dataframe thead th {\n",
       "        text-align: right;\n",
       "    }\n",
       "</style>\n",
       "<table border=\"1\" class=\"dataframe\">\n",
       "  <thead>\n",
       "    <tr style=\"text-align: right;\">\n",
       "      <th></th>\n",
       "      <th>LoveArt</th>\n",
       "      <th>LoveAI</th>\n",
       "    </tr>\n",
       "  </thead>\n",
       "  <tbody>\n",
       "    <tr>\n",
       "      <th>0</th>\n",
       "      <td>Yes</td>\n",
       "      <td>No</td>\n",
       "    </tr>\n",
       "    <tr>\n",
       "      <th>1</th>\n",
       "      <td>Yes</td>\n",
       "      <td>Yes</td>\n",
       "    </tr>\n",
       "    <tr>\n",
       "      <th>2</th>\n",
       "      <td>Yes</td>\n",
       "      <td>Yes</td>\n",
       "    </tr>\n",
       "    <tr>\n",
       "      <th>3</th>\n",
       "      <td>Yes</td>\n",
       "      <td>Yes</td>\n",
       "    </tr>\n",
       "    <tr>\n",
       "      <th>4</th>\n",
       "      <td>Yes</td>\n",
       "      <td>No</td>\n",
       "    </tr>\n",
       "    <tr>\n",
       "      <th>5</th>\n",
       "      <td>Yes</td>\n",
       "      <td>Yes</td>\n",
       "    </tr>\n",
       "    <tr>\n",
       "      <th>6</th>\n",
       "      <td>Yes</td>\n",
       "      <td>Yes</td>\n",
       "    </tr>\n",
       "  </tbody>\n",
       "</table>\n",
       "</div>"
      ],
      "text/plain": [
       "  LoveArt LoveAI\n",
       "0     Yes     No\n",
       "1     Yes    Yes\n",
       "2     Yes    Yes\n",
       "3     Yes    Yes\n",
       "4     Yes     No\n",
       "5     Yes    Yes\n",
       "6     Yes    Yes"
      ]
     },
     "execution_count": 20,
     "metadata": {},
     "output_type": "execute_result"
    }
   ],
   "source": [
    "df[df['LoveArt']== 'Yes'][['LoveArt', 'LoveAI']]"
   ]
  },
  {
   "cell_type": "code",
   "execution_count": null,
   "id": "22611316",
   "metadata": {},
   "outputs": [],
   "source": []
  }
 ],
 "metadata": {
  "kernelspec": {
   "display_name": "base",
   "language": "python",
   "name": "python3"
  },
  "language_info": {
   "codemirror_mode": {
    "name": "ipython",
    "version": 3
   },
   "file_extension": ".py",
   "mimetype": "text/x-python",
   "name": "python",
   "nbconvert_exporter": "python",
   "pygments_lexer": "ipython3",
   "version": "3.12.3"
  }
 },
 "nbformat": 4,
 "nbformat_minor": 5
}
